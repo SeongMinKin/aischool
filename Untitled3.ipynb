{
  "nbformat": 4,
  "nbformat_minor": 0,
  "metadata": {
    "colab": {
      "name": "Untitled3.ipynb",
      "provenance": [],
      "authorship_tag": "ABX9TyP8xOgqij8KGBa2b4IbhKp+",
      "include_colab_link": true
    },
    "kernelspec": {
      "name": "python3",
      "display_name": "Python 3"
    }
  },
  "cells": [
    {
      "cell_type": "markdown",
      "metadata": {
        "id": "view-in-github",
        "colab_type": "text"
      },
      "source": [
        "<a href=\"https://colab.research.google.com/github/SeongMinKin/aischool/blob/master/Untitled3.ipynb\" target=\"_parent\"><img src=\"https://colab.research.google.com/assets/colab-badge.svg\" alt=\"Open In Colab\"/></a>"
      ]
    },
    {
      "cell_type": "code",
      "metadata": {
        "id": "NDo1h1N4B41H",
        "colab_type": "code",
        "colab": {
          "base_uri": "https://localhost:8080/",
          "height": 111
        },
        "outputId": "62c6a564-bc32-4119-d2ff-9d19b38f4d65"
      },
      "source": [
        "x = 5\n",
        "while x != 0:\n",
        "  if x > 1:\n",
        "    x = x-1\n",
        "    print(x)\n",
        "  else:\n",
        "    print(\"Bang\")\n",
        "    x = x-1"
      ],
      "execution_count": 62,
      "outputs": [
        {
          "output_type": "stream",
          "text": [
            "4\n",
            "3\n",
            "2\n",
            "1\n",
            "Bang\n"
          ],
          "name": "stdout"
        }
      ]
    }
  ]
}